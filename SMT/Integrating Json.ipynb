{
 "cells": [
  {
   "cell_type": "code",
   "execution_count": 19,
   "id": "67571e65-ba70-473f-9848-f9ce7248b99f",
   "metadata": {},
   "outputs": [
    {
     "name": "stdout",
     "output_type": "stream",
     "text": [
      "Combined data for inst01.dat_route.json saved to res/smt\\inst01.dat_route.json\n",
      "Combined data for inst02.dat_route.json saved to res/smt\\inst02.dat_route.json\n",
      "Combined data for inst03.dat_route.json saved to res/smt\\inst03.dat_route.json\n",
      "Combined data for inst04.dat_route.json saved to res/smt\\inst04.dat_route.json\n",
      "Combined data for inst05.dat_route.json saved to res/smt\\inst05.dat_route.json\n",
      "Combined data for inst06.dat_route.json saved to res/smt\\inst06.dat_route.json\n",
      "Combined data for inst07.dat_route.json saved to res/smt\\inst07.dat_route.json\n",
      "Combined data for inst08.dat_route.json saved to res/smt\\inst08.dat_route.json\n",
      "Combined data for inst09.dat_route.json saved to res/smt\\inst09.dat_route.json\n",
      "Combined data for inst10.dat_route.json saved to res/smt\\inst10.dat_route.json\n",
      "Combined data for inst11.dat_route.json saved to res/smt\\inst11.dat_route.json\n",
      "Combined data for inst12.dat_route.json saved to res/smt\\inst12.dat_route.json\n",
      "Combined data for inst13.dat_route.json saved to res/smt\\inst13.dat_route.json\n",
      "Combined data for inst14.dat_route.json saved to res/smt\\inst14.dat_route.json\n",
      "Combined data for inst15.dat_route.json saved to res/smt\\inst15.dat_route.json\n",
      "Combined data for inst16.dat_route.json saved to res/smt\\inst16.dat_route.json\n",
      "Combined data for inst17.dat_route.json saved to res/smt\\inst17.dat_route.json\n",
      "Combined data for inst18.dat_route.json saved to res/smt\\inst18.dat_route.json\n",
      "Combined data for inst19.dat_route.json saved to res/smt\\inst19.dat_route.json\n",
      "Combined data for inst20.dat_route.json saved to res/smt\\inst20.dat_route.json\n",
      "Combined data for inst21.dat_route.json saved to res/smt\\inst21.dat_route.json\n"
     ]
    }
   ],
   "source": [
    "import os\n",
    "import json\n",
    "\n",
    "def integrate_routes(input_base_path, output_base_path):\n",
    "    methods = [d for d in os.listdir(input_base_path) if os.path.isdir(os.path.join(input_base_path, d))]\n",
    "\n",
    "    # Ensure the output directory exists\n",
    "    if not os.path.exists(output_base_path):\n",
    "        os.makedirs(output_base_path)\n",
    "\n",
    "    instance_files = {}\n",
    "\n",
    "    # Gather all instance files from each method's directory\n",
    "    for method in methods:\n",
    "        method_path = os.path.join(input_base_path, method, \"route\")\n",
    "        if os.path.exists(method_path):\n",
    "            for filename in os.listdir(method_path):\n",
    "                if filename.endswith(\".json\"):\n",
    "                    if filename not in instance_files:\n",
    "                        instance_files[filename] = {}\n",
    "                    instance_files[filename][method] = os.path.join(method_path, filename)\n",
    "\n",
    "    # Combine the instance data\n",
    "    for instance_file, method_paths in instance_files.items():\n",
    "        combined_data = {}\n",
    "        for method, path in method_paths.items():\n",
    "            with open(path, 'r') as f:\n",
    "                data = json.load(f)\n",
    "                if method in data:\n",
    "                    combined_data[method] = data[method]\n",
    "                else:\n",
    "                    print(f\"Warning: Method '{method}' not found in {path}. Available keys: {list(data.keys())}\")\n",
    "\n",
    "        # Save the combined data to the output directory\n",
    "        output_path = os.path.join(output_base_path, instance_file)\n",
    "        with open(output_path, 'w') as f:\n",
    "            json.dump(combined_data, f, indent=4)\n",
    "        print(f\"Combined data for {instance_file} saved to {output_path}\")\n",
    "\n",
    "# Example usage\n",
    "input_base_path = 'res/smt'\n",
    "output_base_path = 'res/smt'\n",
    "\n",
    "integrate_routes(input_base_path, output_base_path)"
   ]
  },
  {
   "cell_type": "code",
   "execution_count": null,
   "id": "9488c0cc-a4dc-4853-ac4d-80f49f4b5850",
   "metadata": {},
   "outputs": [],
   "source": []
  },
  {
   "cell_type": "code",
   "execution_count": null,
   "id": "db427c92-2710-46c4-bf9f-f916e7defec6",
   "metadata": {},
   "outputs": [],
   "source": []
  }
 ],
 "metadata": {
  "kernelspec": {
   "display_name": "Python 3 (ipykernel)",
   "language": "python",
   "name": "python3"
  },
  "language_info": {
   "codemirror_mode": {
    "name": "ipython",
    "version": 3
   },
   "file_extension": ".py",
   "mimetype": "text/x-python",
   "name": "python",
   "nbconvert_exporter": "python",
   "pygments_lexer": "ipython3",
   "version": "3.11.5"
  }
 },
 "nbformat": 4,
 "nbformat_minor": 5
}
