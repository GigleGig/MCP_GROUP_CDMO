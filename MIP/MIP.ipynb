{
 "cells": [
  {
   "cell_type": "code",
   "execution_count": null,
   "metadata": {},
   "outputs": [],
   "source": [
    "! python -m pip install amplpy --upgrade\n",
    "! python -m amplpy.modules install highs gurobi\n",
    "! python -m amplpy.modules activate "
   ]
  },
  {
   "cell_type": "code",
   "execution_count": 55,
   "metadata": {},
   "outputs": [],
   "source": [
    "import os\n",
    "import matplotlib.pyplot as plt\n",
    "from matplotlib.lines import Line2D\n",
    "import numpy as np\n",
    "from amplpy import AMPL, tools\n",
    "\n",
    "def parse_dat_file(filepath):\n",
    "    with open(filepath, 'r') as file:\n",
    "        lines = file.readlines()\n",
    "        \n",
    "        m = int(lines[0].strip())\n",
    "        n = int(lines[1].strip())\n",
    "        l_values = list(map(int, lines[2].strip().split()))\n",
    "        s_values = list(map(int, lines[3].strip().split()))\n",
    "        distance_matrix = [list(map(int, line.strip().split())) for line in lines[4:]]\n",
    "        \n",
    "        return {\n",
    "            'm': m,\n",
    "            'n': n,\n",
    "            'l_values': l_values,\n",
    "            's_values': s_values,\n",
    "            'distance_matrix': distance_matrix\n",
    "        }\n",
    "\n",
    "def read_dat_files(folder_path):\n",
    "    dat_files = [f for f in os.listdir(folder_path) if f.endswith('.dat')]\n",
    "    instances = {}\n",
    "    \n",
    "    for dat_file in dat_files:\n",
    "        file_path = os.path.join(folder_path, dat_file)\n",
    "        instances[dat_file] = parse_dat_file(file_path)\n",
    "    \n",
    "    return instances\n",
    "\n",
    "folder_path = 'MIP/Instances'  # Adjust this path as necessary\n",
    "instances = read_dat_files(folder_path)"
   ]
  },
  {
   "cell_type": "code",
   "execution_count": null,
   "metadata": {},
   "outputs": [],
   "source": [
    "ampl = tools.ampl_notebook(\n",
    "     modules=[\"highs\", \"cbc\"],\n",
    "     license_uuid=)"
   ]
  },
  {
   "cell_type": "code",
   "execution_count": null,
   "metadata": {},
   "outputs": [],
   "source": [
    "os.chdir(\"/Users/gabrielefossi/Documents/MCP_GROUP_CDMO\")"
   ]
  },
  {
   "cell_type": "code",
   "execution_count": 33,
   "metadata": {},
   "outputs": [],
   "source": [
    "ampl = AMPL()"
   ]
  },
  {
   "cell_type": "code",
   "execution_count": 34,
   "metadata": {},
   "outputs": [],
   "source": [
    "model_path = \"MIP/model.mod\"\n",
    "ampl.read(model_path)"
   ]
  },
  {
   "cell_type": "code",
   "execution_count": 40,
   "metadata": {},
   "outputs": [],
   "source": [
    "instances = [f\"CP/Instances/inst0{i+1}.dzn\" for i in range(9)]"
   ]
  },
  {
   "cell_type": "code",
   "execution_count": 41,
   "metadata": {},
   "outputs": [],
   "source": [
    "instances += [f\"CP/Instances/inst{i}.dzn\" for i in range(10, 22)]"
   ]
  }
 ],
 "metadata": {
  "kernelspec": {
   "display_name": "Python 3",
   "language": "python",
   "name": "python3"
  },
  "language_info": {
   "codemirror_mode": {
    "name": "ipython",
    "version": 3
   },
   "file_extension": ".py",
   "mimetype": "text/x-python",
   "name": "python",
   "nbconvert_exporter": "python",
   "pygments_lexer": "ipython3",
   "version": "3.11.7"
  }
 },
 "nbformat": 4,
 "nbformat_minor": 2
}
